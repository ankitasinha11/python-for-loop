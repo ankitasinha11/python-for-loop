{
 "cells": [
  {
   "cell_type": "code",
   "execution_count": null,
   "id": "dbb2cdd5-8831-4065-88c7-54d101b4ffb4",
   "metadata": {},
   "outputs": [],
   "source": [
    "\"\"\"Task1:\n",
    "You have a nested list as below:\n",
    "indian_employees = [[\"Raj\", \"Patel\"], [\"Priya\", \"Sharma\"],[\"Amit\", \"Kumar\"],[\"Neha\", \"Singh\"]]\n",
    "your have to create an email address for each employee.\n",
    "Email address should be there firstname+lastname@gmail.com\n",
    "\n",
    "Expected output:\n",
    "RajPatel@gmail.com\n",
    "PriyaSharma@gmail.com\n",
    "You have to create email addresses for each employee.\"\"\""
   ]
  },
  {
   "cell_type": "code",
   "execution_count": 2,
   "id": "90fa00b9-3867-43ad-8317-9bbd8adce0aa",
   "metadata": {},
   "outputs": [
    {
     "name": "stdout",
     "output_type": "stream",
     "text": [
      "Employee: Raj Patel, Email: rajpatel@gmail.com\n",
      "Employee: Priya Sharma, Email: priyasharma@gmail.com\n",
      "Employee: Amit Kumar, Email: amitkumar@gmail.com\n",
      "Employee: Neha Singh, Email: nehasingh@gmail.com\n"
     ]
    }
   ],
   "source": [
    "indian_employees = [[\"Raj\", \"Patel\"], [\"Priya\", \"Sharma\"], [\"Amit\", \"Kumar\"], [\"Neha\", \"Singh\"]]\n",
    "\n",
    "for employee in indian_employees:\n",
    "    first_name = employee[0].lower()\n",
    "    last_name = employee[1].lower()\n",
    "    email = f\"{first_name}{last_name}@gmail.com\"\n",
    "    print(f\"Employee: {employee[0]} {employee[1]}, Email: {email}\")\n"
   ]
  },
  {
   "cell_type": "code",
   "execution_count": null,
   "id": "9c9b1577-e2aa-4b41-b2a5-1b6178a30812",
   "metadata": {},
   "outputs": [],
   "source": []
  }
 ],
 "metadata": {
  "kernelspec": {
   "display_name": "Python 3 (ipykernel)",
   "language": "python",
   "name": "python3"
  },
  "language_info": {
   "codemirror_mode": {
    "name": "ipython",
    "version": 3
   },
   "file_extension": ".py",
   "mimetype": "text/x-python",
   "name": "python",
   "nbconvert_exporter": "python",
   "pygments_lexer": "ipython3",
   "version": "3.12.4"
  }
 },
 "nbformat": 4,
 "nbformat_minor": 5
}
